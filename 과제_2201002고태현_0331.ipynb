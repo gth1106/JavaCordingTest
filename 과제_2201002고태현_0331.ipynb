{
  "nbformat": 4,
  "nbformat_minor": 0,
  "metadata": {
    "colab": {
      "provenance": []
    },
    "kernelspec": {
      "name": "python3",
      "display_name": "Python 3"
    },
    "language_info": {
      "name": "python"
    }
  },
  "cells": [
    {
      "cell_type": "code",
      "execution_count": 19,
      "metadata": {
        "colab": {
          "base_uri": "https://localhost:8080/"
        },
        "id": "ACgyKgIGE4O-",
        "outputId": "ca9236ae-86f1-446a-a11a-59a914d1c153"
      },
      "outputs": [
        {
          "output_type": "stream",
          "name": "stdout",
          "text": [
            "174\n"
          ]
        }
      ],
      "source": [
        "def yy(k):\n",
        "    c=1\n",
        "    while k != 1: # 1 이 아닐때 반복복\n",
        "        if k%2==0:\n",
        "            k=k/2\n",
        "            c+=1  # 길이이\n",
        "        else:\n",
        "            k=3*k+1\n",
        "            c+=1\n",
        "    return c\n",
        "arr=[] \n",
        "\n",
        "for t in range(900,1001): # 900 ~ 1001 사이의 수수\n",
        "    arr.append(yy(t)) # arr 리스트에 yy 함수 길이 넣기기\n",
        "print(max(arr)) # arr 리스트에서의 yy 함수의 길이가 제일 큰 값 출력력"
      ]
    },
    {
      "cell_type": "code",
      "source": [
        "# 91 은 101의 제네레이터\n",
        "# d(91) = 9 + 1 + 101\n",
        "def generator(n):\n",
        "  gen = n\n",
        "  _n =list(str(n)) # _n 의 리스트 문자열로 저장\n",
        "  for i in range(len(_n)): # _n 길이만큼 반복복\n",
        "    gen = gen + int(_n[i]) # gen 생성 int 형변환 \n",
        "  return gen\n",
        "\n",
        "self =[0 for i in range(8888)] # self 넘버 1차원배열을 모든인덱스스 0으로 초기화\n",
        "for i in range(5000): # self 배열안에 생성자가 있는 경우 --> 1로 반환\n",
        "  self[generator(i)] = 1 #제네레이터 함수 실행 생성자가있으면면 0인 배열을 1로 \n",
        "\n",
        "sum=0\n",
        "for i in range(5000):  \n",
        "  if self[i]==0 : # 0인 배열만 있다면 합 계산\n",
        "    sum=sum+i\n",
        "    #print(i)  # 셀프넘버 출력\n",
        "print(sum) # 셀프넘버의 합"
      ],
      "metadata": {
        "colab": {
          "base_uri": "https://localhost:8080/"
        },
        "id": "axs4qlbLGH4o",
        "outputId": "964635ee-aca4-43dc-f2f9-70ebc0097ebe"
      },
      "execution_count": 37,
      "outputs": [
        {
          "output_type": "stream",
          "name": "stdout",
          "text": [
            "1227365\n"
          ]
        }
      ]
    },
    {
      "cell_type": "code",
      "source": [
        "y = int(input(\"년월 입력 : \"))\n",
        "def isLeap(y):\n",
        "  return y%4==0 and y%100==0 or y%400==0\n",
        "m = [31,28,31,30,31,30,31,31,30,31,30,31]\n",
        "if isLeap(y):\n",
        "  m[1]=29\n",
        "\n",
        "m[1] = 29 if isLeap(y) else 28\n",
        "      \n",
        "\n",
        "def whatDay(y,m,d):\n",
        "\n",
        "\n"
      ],
      "metadata": {
        "id": "5s72O8CRsPW0"
      },
      "execution_count": null,
      "outputs": []
    },
    {
      "cell_type": "code",
      "source": [],
      "metadata": {
        "id": "yeH4_YIw52Nx"
      },
      "execution_count": null,
      "outputs": []
    }
  ]
}