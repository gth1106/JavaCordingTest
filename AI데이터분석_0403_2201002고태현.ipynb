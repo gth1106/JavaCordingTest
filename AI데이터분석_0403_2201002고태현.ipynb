{
  "nbformat": 4,
  "nbformat_minor": 0,
  "metadata": {
    "colab": {
      "provenance": []
    },
    "kernelspec": {
      "name": "python3",
      "display_name": "Python 3"
    },
    "language_info": {
      "name": "python"
    }
  },
  "cells": [
    {
      "cell_type": "code",
      "execution_count": 1,
      "metadata": {
        "colab": {
          "base_uri": "https://localhost:8080/"
        },
        "id": "oeLix1aBq_0V",
        "outputId": "9c9469f7-d91e-4d09-a7d9-603b38f5fbb6"
      },
      "outputs": [
        {
          "output_type": "stream",
          "name": "stdout",
          "text": [
            "20 + 10 = 30\n",
            "20 - 10 = 10\n",
            "20 * 10 = 200\n",
            "20 / 10 = 2.0\n"
          ]
        }
      ],
      "source": [
        "def calc(n1,n2):\n",
        "  return n1 + n2 , n1 - n2 , n1*n2 , n1/n2 #4개의 값을 가진 튜플객체로 반환\n",
        "\n",
        "n1 , n2 = 20, 10\n",
        "t1, t2 , t3 ,t4 =calc(n1,n2)\n",
        "print(n1,'+',n2,'=', t1)\n",
        "print(n1,'-',n2,'=', t2)\n",
        "print(n1,'*',n2,'=', t3)\n",
        "print(n1,'/',n2,'=', t4)"
      ]
    },
    {
      "cell_type": "code",
      "source": [
        "def print_counter():\n",
        "  cnt = 200\n",
        "  print('counter=', cnt)\n",
        "\n",
        "cnt = 100 # 전역변수 cnt\n",
        "print_counter()\n",
        "print('counter = ', cnt)"
      ],
      "metadata": {
        "colab": {
          "base_uri": "https://localhost:8080/"
        },
        "id": "B8OS83mKsYfI",
        "outputId": "ac39f1a2-2772-47cd-d12d-8ac122a732d8"
      },
      "execution_count": 2,
      "outputs": [
        {
          "output_type": "stream",
          "name": "stdout",
          "text": [
            "counter= 200\n",
            "counter =  100\n"
          ]
        }
      ]
    },
    {
      "cell_type": "code",
      "source": [
        "def print_counter():\n",
        "  global cnt # 전역변수 cnt\n",
        "  cnt = 200\n",
        "  print('counter=', cnt)\n",
        "\n",
        "cnt = 100 # w전역 변수 cnt\n",
        "print_counter()\n",
        "print('counter=',cnt)"
      ],
      "metadata": {
        "colab": {
          "base_uri": "https://localhost:8080/"
        },
        "id": "cHDQwc9fss_i",
        "outputId": "fafc5c46-2407-4661-bbf8-de6e766cba25"
      },
      "execution_count": 3,
      "outputs": [
        {
          "output_type": "stream",
          "name": "stdout",
          "text": [
            "counter= 200\n",
            "counter= 200\n"
          ]
        }
      ]
    },
    {
      "cell_type": "code",
      "source": [
        "def order(num, pickle=True, onion=True):\n",
        "  print('버거 %d개 : 피클 %s, 양파 %s' % (num,pickle ,onion))\n",
        "order(1)\n",
        "order(2,False,False)\n",
        "order(3,False)"
      ],
      "metadata": {
        "colab": {
          "base_uri": "https://localhost:8080/"
        },
        "id": "2T5lIeY9tOeC",
        "outputId": "281c12c0-0ce5-4bf1-ac03-790b19699480"
      },
      "execution_count": 5,
      "outputs": [
        {
          "output_type": "stream",
          "name": "stdout",
          "text": [
            "버거 1개 : 피클 True, 양파 True\n",
            "버거 2개 : 피클 False, 양파 False\n",
            "버거 3개 : 피클 False, 양파 True\n"
          ]
        }
      ]
    },
    {
      "cell_type": "code",
      "source": [
        "def power(base,exp):\n",
        "  return base**exp\n",
        "print(power(2,3))\n",
        "print(power(exp=3,base=2)) # 값 과 변수 이름까지 쌍으로 이용"
      ],
      "metadata": {
        "colab": {
          "base_uri": "https://localhost:8080/"
        },
        "id": "ACsihJeSufzy",
        "outputId": "d385cd11-9019-4b50-c3ac-56df2e488e8b"
      },
      "execution_count": 6,
      "outputs": [
        {
          "output_type": "stream",
          "name": "stdout",
          "text": [
            "8\n",
            "8\n"
          ]
        }
      ]
    },
    {
      "cell_type": "code",
      "source": [
        "def weeklyPay(rate, hour):\n",
        "  if(hour > 30):\n",
        "    money = rate*30 + 1.5*rate*(hour-30)\n",
        "  else:\n",
        "    money = rate*hour\n",
        "  return money\n",
        "\n",
        "r= int(input(\"시급 입력: \"))\n",
        "h= int(input(\"근무 시간 입력:\"))\n",
        "print(\"주급은\" , weeklyPay(rate=r,hour=h))"
      ],
      "metadata": {
        "colab": {
          "base_uri": "https://localhost:8080/"
        },
        "id": "Fpgq-j9UvWjU",
        "outputId": "350afff9-7d48-4394-d20a-60d907a36b11"
      },
      "execution_count": 9,
      "outputs": [
        {
          "output_type": "stream",
          "name": "stdout",
          "text": [
            "시급 입력: 10000\n",
            "근무 시간 입력:40\n",
            "주급은 450000.0\n"
          ]
        }
      ]
    },
    {
      "cell_type": "code",
      "source": [
        "print(round(23.75))\n",
        "print(round(23.75,1))\n",
        "print(round(23.75,-1))\n",
        "\n",
        "print(pow(2,3))\n",
        "print(pow(2,0.5))\n",
        "\n",
        "print(abs(-3.9))"
      ],
      "metadata": {
        "colab": {
          "base_uri": "https://localhost:8080/"
        },
        "id": "0MWAIUX3xDL_",
        "outputId": "6fa955f8-74ed-446b-f319-0ffa7bedc96f"
      },
      "execution_count": 13,
      "outputs": [
        {
          "output_type": "stream",
          "name": "stdout",
          "text": [
            "24\n",
            "23.8\n",
            "20.0\n",
            "8\n",
            "1.4142135623730951\n",
            "3.9\n"
          ]
        }
      ]
    },
    {
      "cell_type": "code",
      "source": [
        "def factorial(n):\n",
        "  if n<=1:\n",
        "    return 1\n",
        "  else :\n",
        "    return n * factorial(n-1)\n",
        "print('5!= ', factorial(5))"
      ],
      "metadata": {
        "colab": {
          "base_uri": "https://localhost:8080/"
        },
        "id": "7fhJDaXYy1l_",
        "outputId": "f9324552-1406-423e-c417-cb7d4f703ec3"
      },
      "execution_count": 14,
      "outputs": [
        {
          "output_type": "stream",
          "name": "stdout",
          "text": [
            "5!=  120\n"
          ]
        }
      ]
    },
    {
      "cell_type": "code",
      "source": [
        "def fibo(i):\n",
        "  if i==1:\n",
        "    return 0\n",
        "  elif i==2 :\n",
        "    return 1\n",
        "  else :\n",
        "    return fibo(i-1)+fibo(i-2)\n",
        "\n",
        "n = int(input(\"정수 n 입력 : \"))\n",
        "print('%d번째 피보나치 수열 = %d' % (n,fibo(n)))\n"
      ],
      "metadata": {
        "colab": {
          "base_uri": "https://localhost:8080/"
        },
        "id": "vwP587_W63_5",
        "outputId": "36b87635-e95c-4435-8719-2950e0bcc4d7"
      },
      "execution_count": 19,
      "outputs": [
        {
          "output_type": "stream",
          "name": "stdout",
          "text": [
            "정수 n 입력 : 40\n",
            "40번째 피보나치 수열 = 63245986\n"
          ]
        }
      ]
    },
    {
      "cell_type": "code",
      "source": [
        "def rsum(n):\n",
        "  if n==1:\n",
        "    return 1\n",
        "  return rsum(n-1)+ 1/n\n",
        "n= int(input(\"정수 입력 : \"))\n",
        "print(\"1에서 %d 사이의 역수 수열의 합 =%.1f\"%(n,rsum(n)))"
      ],
      "metadata": {
        "colab": {
          "base_uri": "https://localhost:8080/"
        },
        "id": "0TneacI28e7U",
        "outputId": "fdcb53d5-4a13-42c8-d88b-4c10aaae95ec"
      },
      "execution_count": 20,
      "outputs": [
        {
          "output_type": "stream",
          "name": "stdout",
          "text": [
            "정수 입력 : 100\n",
            "1에서 100 사이의 역수 수열의 합 =5.2\n"
          ]
        }
      ]
    },
    {
      "cell_type": "code",
      "source": [
        "def dsum(n:int)->int:\n",
        "  if n==0:\n",
        "    return 0\n",
        "  else :\n",
        "    return dsum(n//10) + n%10 # 1234 +123 12 1 0  1 2 3 4 5\n",
        "\n",
        "n = int(input(\"수 입력 :\"))\n",
        "print(dsum(n))"
      ],
      "metadata": {
        "colab": {
          "base_uri": "https://localhost:8080/"
        },
        "id": "EpbEb0IW9dew",
        "outputId": "d91cfd9d-67f7-46b7-bd40-0cd68107addc"
      },
      "execution_count": 26,
      "outputs": [
        {
          "output_type": "stream",
          "name": "stdout",
          "text": [
            "수 입력 :12345\n",
            "15\n"
          ]
        }
      ]
    },
    {
      "cell_type": "code",
      "source": [
        "def gcd(x:int , y:int) -> int:\n",
        "  \n",
        "  if y==0 :\n",
        "    return x\n",
        "  else :\n",
        "    return  gcd(y,x%y)\n",
        "\n",
        "x,y=map(int,input(\"수 입력 :\").split())\n",
        "print(gcd(x,y))"
      ],
      "metadata": {
        "colab": {
          "base_uri": "https://localhost:8080/"
        },
        "id": "fb5Kh211_V7X",
        "outputId": "9d7c7e2a-657b-4dc5-e098-144beae9c16e"
      },
      "execution_count": 30,
      "outputs": [
        {
          "output_type": "stream",
          "name": "stdout",
          "text": [
            "수 입력 :25 15\n",
            "5\n"
          ]
        }
      ]
    },
    {
      "cell_type": "code",
      "source": [
        "def dsum(n):\n",
        "  if n==0:\n",
        "    return 0\n",
        "  return dsum(n//10) + n % 10\n",
        "\n",
        "def d(n):\n",
        "  return dsum(n) + n\n",
        "\n",
        "\n",
        "#   self = True\n",
        "#   for j in range(1, i):\n",
        "#     # i에게 제네레이터가 있는지 검사\n",
        "#     if (i == generator(j)) :\n",
        "#       self = False\n",
        "#   if self:\n",
        "#     sum += i\n",
        "# print(sum)\n",
        "# 중첩 for 문 함수로 변경해보기기\n",
        "def is_Self(n:int)->bool:\n",
        "  for j in range(1,n):\n",
        "    if d(j)==n:\n",
        "      return False\n",
        "  return True\n",
        "\n",
        "selfNumber_sum =0\n",
        "for i in range(1, 5000):\n",
        "    if is_Self(i):\n",
        "      selfNumber_sum += i\n",
        "print(selfNumber_sum)"
      ],
      "metadata": {
        "id": "7QBvC6tKfxry"
      },
      "execution_count": null,
      "outputs": []
    },
    {
      "cell_type": "markdown",
      "source": [],
      "metadata": {
        "id": "X_7IGqrquCDi"
      }
    }
  ]
}