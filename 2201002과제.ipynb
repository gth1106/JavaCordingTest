{
  "nbformat": 4,
  "nbformat_minor": 0,
  "metadata": {
    "colab": {
      "provenance": []
    },
    "kernelspec": {
      "name": "python3",
      "display_name": "Python 3"
    },
    "language_info": {
      "name": "python"
    }
  },
  "cells": [
    {
      "cell_type": "code",
      "execution_count": 10,
      "metadata": {
        "colab": {
          "base_uri": "https://localhost:8080/"
        },
        "id": "fFYqa8hC4w4A",
        "outputId": "827be5c2-d093-4263-cc49-5501887f1cfa"
      },
      "outputs": [
        {
          "output_type": "stream",
          "name": "stdout",
          "text": [
            "빵빵이 (2200111) - 웹툰만화학, 학년 : 3, 학점 : 14\n",
            "김옥지 (2021001) - 컴퓨터 공학, 학년 : 2, 학점 : 30, 동아리: 코딩\n",
            "고태현 (2201002) - 빅데이터, 학년 : 2, 학점 : 24, 조교 유형: 교육, 장학금 비율: 1.0\n"
          ]
        }
      ],
      "source": [
        "# 기본 학생 클래스\n",
        "class Student:\n",
        "    def __init__(self, name, id, department, grade, credits):\n",
        "        self.name = name\n",
        "        self.id = id\n",
        "        self.department = department\n",
        "        self.grade = grade\n",
        "        self.credits = credits\n",
        "\n",
        "    def get_info(self):\n",
        "        return f\"{self.name} ({self.id}) - {self.department}, 학년 : {self.grade}, 학점 : {self.credits}\"\n",
        "\n",
        "# 학부생 클래스\n",
        "class Jndergraduate(Student):\n",
        "    def __init__(self, name, id, department, grade, credits, club):\n",
        "        super().__init__(name, id, department, grade, credits)\n",
        "        self.club = club\n",
        "\n",
        "    def get_info(self):\n",
        "        return super().get_info() + f\", 동아리: {self.club}\"\n",
        "\n",
        "\n",
        "class Graduate(Student):\n",
        "    def __init__(self, name, id, department, grade, credits, assist_type, scholarship_rate):\n",
        "        super().__init__(name, id, department, grade, credits)\n",
        "        self.assist_type = assist_type\n",
        "        self.scholarship_rate = scholarship_rate\n",
        "\n",
        "    def get_info(self):\n",
        "        return super().get_info() + f\", 조교 유형: {self.assist_type}, 장학금 비율: {self.scholarship_rate}\"\n",
        "\n",
        "\n",
        "# 테스트 클래스\n",
        "if __name__ == \"__main__\":\n",
        "    main =Student(\"빵빵이\",\"2200111\",\"웹툰만화학\",3 , 14)\n",
        "    jg = Jndergraduate(\"김옥지\", \"2021001\", \"컴퓨터 공학\", 2, 30, \"코딩\")\n",
        "    grad = Graduate(\"고태현\", \"2201002\", \"빅데이터\", 2, 24, \"교육\", 1.0)\n",
        "\n",
        "    print(main.get_info())\n",
        "    print(jg.get_info())\n",
        "    print(grad.get_info())\n"
      ]
    },
    {
      "cell_type": "code",
      "source": [
        "\n",
        "import math  # 삼각형 면적 계산\n",
        "\n",
        "class Polygon:\n",
        "\n",
        "\n",
        "    def perimeter(self):\n",
        "        pass\n",
        "\n",
        "    def area():\n",
        "        pass\n",
        "\n",
        "class Triangle(Polygon):\n",
        "    def __init__(self, a, b, c):\n",
        "        self.a = a\n",
        "        self.b = b\n",
        "        self.c = c\n",
        "\n",
        "    def perimeter(self):\n",
        "        return self.a + self.b + self.c\n",
        "\n",
        "    def area(self):\n",
        "        s = self.perimeter() / 2  # 반둘레\n",
        "        return math.sqrt(s * (s - self.a) * (s - self.b) * (s - self.c))  # 주어진 공식 사용\n",
        "\n",
        "class Square(Polygon):\n",
        "    def __init__(self, side):\n",
        "        self.side = side\n",
        "\n",
        "    def perimeter(self):\n",
        "        return 4 * self.side\n",
        "\n",
        "    def area(self):\n",
        "        return self.side ** 2\n",
        "\n",
        "class Rectangle(Polygon):\n",
        "    def __init__(self, w, h):\n",
        "        self.w = w\n",
        "        self.h = h\n",
        "\n",
        "    def perimeter(self):\n",
        "        return 2 * (self.w + self.h)\n",
        "\n",
        "    def area(self):\n",
        "        return self.w * self.h\n",
        "\n",
        "shapes = [Triangle(3, 4, 5), Square(4), Rectangle(4, 5)] #업캐스팅 ?\n",
        "\n",
        "for shape in shapes:\n",
        "    print(f\"{shape.__class__.__name__} - 둘레: {shape.perimeter()}, 넓이 : {shape.area()}\") #다형성\n"
      ],
      "metadata": {
        "colab": {
          "base_uri": "https://localhost:8080/"
        },
        "id": "d7q3t9bW9uNh",
        "outputId": "047c6402-a222-4035-cb64-5346a15a6d78"
      },
      "execution_count": 14,
      "outputs": [
        {
          "output_type": "stream",
          "name": "stdout",
          "text": [
            "Triangle - 둘레: 12, 넓이 : 6.0\n",
            "Square - 둘레: 16, 넓이 : 16\n",
            "Rectangle - 둘레: 18, 넓이 : 20\n"
          ]
        }
      ]
    }
  ]
}