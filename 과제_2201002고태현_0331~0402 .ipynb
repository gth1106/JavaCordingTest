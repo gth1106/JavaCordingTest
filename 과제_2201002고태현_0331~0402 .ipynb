{
  "cells": [
    {
      "cell_type": "code",
      "execution_count": 19,
      "metadata": {
        "colab": {
          "base_uri": "https://localhost:8080/"
        },
        "id": "ACgyKgIGE4O-",
        "outputId": "ca9236ae-86f1-446a-a11a-59a914d1c153"
      },
      "outputs": [
        {
          "name": "stdout",
          "output_type": "stream",
          "text": [
            "174\n"
          ]
        }
      ],
      "source": [
        "def yy(k):\n",
        "    c=1\n",
        "    while k != 1: # 1 이 아닐때 반복복\n",
        "        if k%2==0:\n",
        "            k=k/2\n",
        "            c+=1  # 길이이\n",
        "        else:\n",
        "            k=3*k+1\n",
        "            c+=1\n",
        "    return c\n",
        "arr=[] \n",
        "\n",
        "for t in range(900,1001): # 900 ~ 1001 사이의 수수\n",
        "    arr.append(yy(t)) # arr 리스트에 yy 함수 길이 넣기기\n",
        "print(max(arr)) # arr 리스트에서의 yy 함수의 길이가 제일 큰 값 출력력"
      ]
    },
    {
      "cell_type": "code",
      "execution_count": 37,
      "metadata": {
        "colab": {
          "base_uri": "https://localhost:8080/"
        },
        "id": "axs4qlbLGH4o",
        "outputId": "964635ee-aca4-43dc-f2f9-70ebc0097ebe"
      },
      "outputs": [
        {
          "name": "stdout",
          "output_type": "stream",
          "text": [
            "1227365\n"
          ]
        }
      ],
      "source": [
        "# 91 은 101의 제네레이터\n",
        "# d(91) = 9 + 1 + 101\n",
        "def generator(n):\n",
        "  gen = n\n",
        "  _n =list(str(n)) # _n 의 리스트 문자열로 저장\n",
        "  for i in range(len(_n)): # _n 길이만큼 반복복\n",
        "    gen = gen + int(_n[i]) # gen 생성 int 형변환 \n",
        "  return gen\n",
        "\n",
        "self =[0 for i in range(8888)] # self 넘버 1차원배열을 모든인덱스스 0으로 초기화\n",
        "for i in range(5000): # self 배열안에 생성자가 있는 경우 --> 1로 반환\n",
        "  self[generator(i)] = 1 #제네레이터 함수 실행 생성자가있으면면 0인 배열을 1로 \n",
        "\n",
        "sum=0\n",
        "for i in range(5000):  \n",
        "  if self[i]==0 : # 0인 배열만 있다면 합 계산\n",
        "    sum=sum+i\n",
        "    #print(i)  # 셀프넘버 출력\n",
        "print(sum) # 셀프넘버의 합"
      ]
    },
    {
      "cell_type": "code",
      "execution_count": 2,
      "metadata": {
        "colab": {
          "base_uri": "https://localhost:8080/"
        },
        "id": "yeH4_YIw52Nx",
        "outputId": "4ee5ae8e-5240-4ef0-bfa4-58b532fd331c"
      },
      "outputs": [
        {
          "name": "stdout",
          "output_type": "stream",
          "text": [
            "1227365\n"
          ]
        }
      ],
      "source": [
        "#배열을 안쓴 버전\n",
        "# d(n)식을 나타내는 함수\n",
        "\n",
        "def yy(n : int) -> int :\n",
        "  gen = n\n",
        "  while n !=0:\n",
        "    r = n % 10\n",
        "    n //= 10\n",
        "    gen+= r\n",
        "  return gen\n",
        "\n",
        "sum =0\n",
        "for i in range(1, 5000):\n",
        "  self = True\n",
        "  for j in range(1, i):\n",
        "    # i에게 제네레이터가 있는지 검사\n",
        "    if (i == yy(j)) :\n",
        "    \n",
        "      self = False\n",
        "  if self:\n",
        "    sum += i\n",
        "\n",
        "print(sum)"
      ]
    },
    {
      "cell_type": "code",
      "execution_count": 13,
      "metadata": {
        "colab": {
          "base_uri": "https://localhost:8080/"
        },
        "id": "NJimOYdrIgcM",
        "outputId": "97697efd-3039-4981-9cb5-8ed2044870c3"
      },
      "outputs": [
        {
          "name": "stdout",
          "output_type": "stream",
          "text": [
            "년,월 입력: 2000 2\n",
            " 일  월  화  수  목  금  토\n",
            "                      1   2 \n",
            "  3   4   5   6   7   8   9 \n",
            " 10  11  12  13  14  15  16 \n",
            " 17  18  19  20  21  22  23 \n",
            " 24  25  26  27  28  29 \n"
          ]
        }
      ],
      "source": [
        "#윤년 검사 함수\n",
        "def isLeap(y:int) -> bool:\n",
        "  if y%4==0 and y%100!=0 or y%400==0 :\n",
        "    return True\n",
        "  return False\n",
        "\n",
        "# 년,월,일 ) 입력 시 해당요일 번호 반환함수\n",
        "def whatDay(y:int , m:int , d:int)-> int :\n",
        "  a = 0\n",
        "  for i in range(1,y):   #1년 1일 부터 입력한 날까지의 날의 합을 7로 나눈 나머지\n",
        "    a += 365            # 리턴 값\n",
        "    if isLeap(y): \n",
        "      a += 1\n",
        "  for i in range(1,m):\n",
        "    a +=lastDate(y,i)\n",
        "  a+=d\n",
        "  return a%7\n",
        "\n",
        "#해당 달이 몇일까지인지 반환하는 함수\n",
        "\n",
        "def lastDate(y:int , m:int)-> int:\n",
        "  if m<1 or m>12 :\n",
        "     return -1\n",
        "  lastday=0\n",
        "  if m==2:\n",
        "    if isLeap(y):\n",
        "      lastday = 29\n",
        "    else :\n",
        "      lastday = 28\n",
        "  elif m in (4,6,9,11):\n",
        "    lastday=30\n",
        "  else :\n",
        "    lastday=31\n",
        "  return lastday\n",
        "y,m = map(int,input(\"년,월 입력: \").split())\n",
        "\n",
        "print(\" 일  월  화  수  목  금  토\")\n",
        "print(\"    \"* whatDay( y , m , 1), end =\"\") # 공백만들때 0이 나올수도있기에 +1\n",
        "for i in range(1, lastDate(y,m)+1):  #1일부터 마지막 날까지 반복복\n",
        "  print(\" %2d\" % i, end= \" \")\n",
        "  if(i + whatDay(y,m,1)) % 7 ==0: # 토요일 다음 줄바꿈꿈\n",
        "    print()\n",
        "print()"
      ]
    },
    {
      "cell_type": "code",
      "execution_count": null,
      "metadata": {
        "id": "vmsDPUYDSGRi"
      },
      "outputs": [],
      "source": []
    }
  ],
  "metadata": {
    "colab": {
      "provenance": []
    },
    "kernelspec": {
      "display_name": "Python 3",
      "name": "python3"
    },
    "language_info": {
      "name": "python"
    }
  },
  "nbformat": 4,
  "nbformat_minor": 0
}
